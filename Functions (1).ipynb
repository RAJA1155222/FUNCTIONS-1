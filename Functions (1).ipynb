{
  "nbformat": 4,
  "nbformat_minor": 0,
  "metadata": {
    "colab": {
      "provenance": []
    },
    "kernelspec": {
      "name": "python3",
      "display_name": "Python 3"
    },
    "language_info": {
      "name": "python"
    }
  },
  "cells": [
    {
      "cell_type": "markdown",
      "source": [
        "# FUNCTIONS"
      ],
      "metadata": {
        "id": "blAWtiqbpy2P"
      }
    },
    {
      "cell_type": "markdown",
      "source": [
        "# 1. What is the difference between a function and a method in Python\n",
        " - Function:\n",
        "\n",
        "- A function is a block of code that performs a specific task.\n",
        "- It is defined using the def keyword.\n",
        "- It can be called independently.\n",
        "#Example:  "
      ],
      "metadata": {
        "id": "IVeyXVAYp49T"
      }
    },
    {
      "cell_type": "code",
      "source": [
        "def greet(name):\n",
        "    \"\"\"\n",
        "    This function greets the person passed in as a parameter.\n",
        "    \"\"\"\n",
        "    print(f\"Hello, {name}!\")\n",
        "\n",
        "greet(\"World\")  # Calling the function"
      ],
      "metadata": {
        "colab": {
          "base_uri": "https://localhost:8080/"
        },
        "id": "GXXfgGj0qblw",
        "outputId": "011a71af-564e-4f4a-c824-f617e5d91147"
      },
      "execution_count": 1,
      "outputs": [
        {
          "output_type": "stream",
          "name": "stdout",
          "text": [
            "Hello, World!\n"
          ]
        }
      ]
    },
    {
      "cell_type": "markdown",
      "source": [
        "Method:\n",
        "\n",
        "- A method is a function that is associated with an object.\n",
        "- It is defined within a class.\n",
        "- It is called on an object of the class using the dot operator.\n",
        "#Example:"
      ],
      "metadata": {
        "id": "598RVsdEqjjZ"
      }
    },
    {
      "cell_type": "code",
      "source": [
        "class Dog:\n",
        "    def __init__(self, name):\n",
        "        self.name = name\n",
        "\n",
        "    def bark(self):\n",
        "        \"\"\"\n",
        "        This method makes the dog bark.\n",
        "        \"\"\"\n",
        "        print(\"Woof!\")\n",
        "\n",
        "my_dog = Dog(\"Buddy\")  # Creating an object of the Dog class\n",
        "my_dog.bark()  # Calling the bark method on the object"
      ],
      "metadata": {
        "id": "ImmBgeD5qtEZ"
      },
      "execution_count": null,
      "outputs": []
    },
    {
      "cell_type": "markdown",
      "source": [
        "#2. Explain the concept of function arguments and parameters in Python.\n",
        " - Parameters:\n",
        "\n",
        "- Parameters are the variables listed inside the parentheses in the function definition.\n",
        "- They act as placeholders for the values that will be passed to the function when it is called.\n",
        "#Example:"
      ],
      "metadata": {
        "id": "nnpmPAH0q5nV"
      }
    },
    {
      "cell_type": "code",
      "source": [
        "def greet(name):  # 'name' is the parameter\n",
        "    print(f\"Hello, {name}!\")"
      ],
      "metadata": {
        "id": "G3KXus3XrRJ-"
      },
      "execution_count": 2,
      "outputs": []
    },
    {
      "cell_type": "markdown",
      "source": [
        "Arguments:\n",
        "\n",
        "- Arguments are the actual values that are passed to the function when it is called.\n",
        "- They are assigned to the corresponding parameters in the function definition.\n",
        "#Example:"
      ],
      "metadata": {
        "id": "sarPssAwrW0g"
      }
    },
    {
      "cell_type": "code",
      "source": [
        "greet(\"World\")  # \"World\" is the argument"
      ],
      "metadata": {
        "id": "HhpRwxxgrdn2"
      },
      "execution_count": null,
      "outputs": []
    },
    {
      "cell_type": "markdown",
      "source": [
        "In this example:\n",
        "\n",
        "- name is a parameter of the greet function.\n",
        "- \"World\" is the argument passed to the greet function.\n",
        "\n",
        "#Types of Arguments:\n",
        "\n",
        "- Positional arguments: Arguments that are passed to the function in the order they are defined in the function definition.\n",
        "- Keyword arguments: Arguments that are passed to the function using the parameter name and the assignment operator (=).\n",
        "- Default arguments: Arguments that have a default value assigned to them in the function definition. If no value is provided for these arguments when the function is called, the default value is used."
      ],
      "metadata": {
        "id": "hQeOw08wrfhS"
      }
    },
    {
      "cell_type": "markdown",
      "source": [
        "#3. What are the different ways to define and call a function in Python\n",
        "-  Defining a Function:\n",
        "\n",
        "Using the def keyword:\n",
        "\n",
        "\n",
        "- function_name: The name of the function.\n",
        "- parameters: A comma-separated list of parameters (optional).\n",
        "- Docstring: A string that describes the - function's purpose (optional).\n",
        "Function body: The code that is executed when the function is called.\n",
        "- return value: The value that is returned by the function (optional).\n",
        "\n",
        "# Calling a Function:\n",
        "\n",
        "#Using the function name followed by parentheses:\n",
        "\n",
        "\n",
        "   - function_name: The name of the function to call.\n",
        "- arguments: A comma-separated list of arguments (optional).\n",
        "\n",
        "#Using keyword arguments:\n",
        "\n",
        "\n",
        "- parameter1, parameter2, ...: The names of the parameters.\n",
        "- value1, value2, ...: The values to assign to the parameters.\n",
        "#Using a combination of positional and keyword arguments:\n",
        "\n",
        "\n",
        "- positional_arguments: Arguments passed in the order defined in the function definition.\n",
        "- keyword_arguments: Arguments passed using parameter names."
      ],
      "metadata": {
        "id": "F10kSKJ0rvmE"
      }
    },
    {
      "cell_type": "markdown",
      "source": [
        "#4. What is the purpose of the `return` statement in a Python function\n",
        "- The return statement in a Python function serves two main purposes:\n",
        "\n",
        "1. To return a value from the function: When a return statement is encountered within a function, the function immediately stops executing and returns the specified value to the caller. This allows functions to produce results that can be used elsewhere in your program."
      ],
      "metadata": {
        "id": "tCMGoVfptWqF"
      }
    },
    {
      "cell_type": "code",
      "source": [
        "def add(x,y):\n",
        "       \"\"\"This function adds two numbers and returns the result.\"\"\"\n",
        "       result = x + y\n",
        "       return result\n",
        "\n",
        "raja = add(5,3)\n",
        "print(raja)"
      ],
      "metadata": {
        "colab": {
          "base_uri": "https://localhost:8080/"
        },
        "id": "VDce6ZQyutMg",
        "outputId": "1fdd326c-0d6c-4e29-f029-5e3d3a855680"
      },
      "execution_count": 45,
      "outputs": [
        {
          "output_type": "stream",
          "name": "stdout",
          "text": [
            "8\n"
          ]
        }
      ]
    },
    {
      "cell_type": "markdown",
      "source": [
        "In this example, the add function returns the sum of x and y using the return statement. The returned value (8 in this case) is then assigned to the variable sum_result and printed."
      ],
      "metadata": {
        "id": "rD9tBuaoxeBs"
      }
    },
    {
      "cell_type": "markdown",
      "source": [
        "2. Exiting the Function:\n",
        "\n",
        "- Even if a function doesn't need to return a specific value, the return statement can be used to exit the function prematurely.\n",
        "- This is useful for controlling the flow of execution within the function.\n",
        "#Here's a simple example to illustrate the concept of exiting a loop and function using return statements:"
      ],
      "metadata": {
        "id": "AJajcHTUxgIG"
      }
    },
    {
      "cell_type": "code",
      "source": [
        "def search_element(element, list1):\n",
        "    \"\"\"\n",
        "    Searches for an element in a list and returns True if found,\n",
        "    otherwise exits the loop and returns False.\n",
        "    \"\"\"\n",
        "    for item in list1:\n",
        "        if item == element:\n",
        "            return True  # Element found, exit loop and function\n",
        "\n",
        "    return False  # Element not found after loop completion\n",
        "\n",
        "element_found = search_element(5, [1, 2, 3, 4, 5])\n",
        "print(element_found)  # Output: True"
      ],
      "metadata": {
        "colab": {
          "base_uri": "https://localhost:8080/"
        },
        "id": "-i0diMJsxpi2",
        "outputId": "fca34bb1-e23f-4fd1-ee0a-9f80766ac49f"
      },
      "execution_count": 46,
      "outputs": [
        {
          "output_type": "stream",
          "name": "stdout",
          "text": [
            "True\n"
          ]
        }
      ]
    },
    {
      "cell_type": "markdown",
      "source": [
        "In the search_element function, if the element is found in the loop, the function immediately returns True and exits. If the element is not found after completing the loop, it returns False."
      ],
      "metadata": {
        "id": "gTqIVfhPxuCt"
      }
    },
    {
      "cell_type": "markdown",
      "source": [
        "#5. What are iterators in Python and how do they differ from iterables\n",
        "\n",
        "\n",
        "#Iterables\n",
        "\n",
        "- Definition: An iterable is any Python object capable of returning its members one at a time, allowing it to be iterated over in a for loop.\n",
        "- Examples: Lists, tuples, strings, dictionaries, sets, and files are common examples of iterables.\n",
        "- Mechanism: When you use an iterable in a for loop, Python implicitly calls the iter() function on it. This function returns an iterator object.\n",
        "\n",
        "#Iterators\n",
        "\n",
        "- Definition: An iterator is an object that represents a stream of data. It implements the iterator protocol, which consists of two methods:\n",
        " - __iter__: Returns the iterator object itself.\n",
        " - __next__: Returns the next item in the stream. When there are no more items, it raises a StopIteration exception.\n",
        "- Purpose: Iterators are used to fetch the next item in a sequence, one at a time, without needing to know the underlying structure of the iterable.\n",
        "- Creation: You can obtain an iterator from an iterable using the iter() function.\n",
        "#Example"
      ],
      "metadata": {
        "id": "HEGp_7voxxpI"
      }
    },
    {
      "cell_type": "code",
      "source": [
        "my_list = [1, 2, 3]  # This is an iterable\n",
        "\n",
        "# Get an iterator from the list\n",
        "my_iterator = iter(my_list)\n",
        "\n",
        "# Iterate over the elements using the iterator\n",
        "print(next(my_iterator))  # Output: 1\n",
        "print(next(my_iterator))  # Output: 2\n",
        "print(next(my_iterator))  # Output: 3\n",
        "#print(next(my_iterator))  # Raises StopIteration exception\n"
      ],
      "metadata": {
        "colab": {
          "base_uri": "https://localhost:8080/"
        },
        "id": "rny7R_34yjq2",
        "outputId": "8aa0a185-645f-47c7-b5f4-95f0cf838400"
      },
      "execution_count": 47,
      "outputs": [
        {
          "output_type": "stream",
          "name": "stdout",
          "text": [
            "1\n",
            "2\n",
            "3\n"
          ]
        }
      ]
    },
    {
      "cell_type": "markdown",
      "source": [
        "In this example, my_list is an iterable. Using iter(my_list), we obtain an iterator my_iterator. We then use the next() function to retrieve elements from the iterator one by one. After exhausting all elements, calling next() again would raise a StopIteration exception."
      ],
      "metadata": {
        "id": "67Cq30AHypUm"
      }
    },
    {
      "cell_type": "markdown",
      "source": [
        "#6. Explain the concept of generators in Python and how they are defined.\n",
        "- Generators are a special type of iterator that can be used to produce a sequence of values one at a time, on demand.\n",
        "- They are defined using functions, but instead of using the return statement, they use the yield keyword.\n",
        "- When a generator function is called, it doesn't execute the function body immediately. Instead, it returns a generator object.\n",
        "- Each time the next() function is called on the generator object, the function body is executed until a yield statement is encountered.\n",
        "- The value specified in the yield statement is then returned to the caller, and the function's state is saved.\n",
        "- The next time next() is called, the function resumes execution from where it left off, until the next yield statement or the end of the function is reached.\n",
        "#Defining Generators\n",
        "\n",
        "Generators are defined using functions, but with the key difference of using the yield keyword instead of return. Here's a basic example:"
      ],
      "metadata": {
        "id": "cdNazDZuyrBR"
      }
    },
    {
      "cell_type": "code",
      "source": [
        "def my_generator(n):\n",
        "    for i in range(n):\n",
        "        yield i\n",
        "\n",
        "# Create a generator object\n",
        "gen = my_generator(3)\n",
        "\n",
        "# Iterate over the generated values\n",
        "print(next(gen))  # Output: 0\n",
        "print(next(gen))  # Output: 1\n",
        "print(next(gen))  # Output: 2\n",
        "# print(next(gen))  # Raises StopIteration exception"
      ],
      "metadata": {
        "id": "BlefjfJGzPDZ"
      },
      "execution_count": null,
      "outputs": []
    },
    {
      "cell_type": "markdown",
      "source": [
        "In this example, the my_generator function is a generator function. When called with an argument n, it returns a generator object. Each time next() is called on the generator object, it yields the next value in the sequence from 0 to n-1. Once all values have been yielded, calling next() again raises a StopIteration exception.\n",
        "\n",
        "#Advantages of Generators\n",
        "\n",
        "- Memory Efficiency: Generators produce values on demand, so they don't need to store the entire sequence in memory at once. This makes them very memory-efficient, especially for large datasets.\n",
        "- Lazy Evaluation: Values are generated only when needed, which can be useful for situations where generating all values upfront would be computationally expensive.\n",
        "- Readability: Generators can often make code more concise and readable compared to using iterators directly."
      ],
      "metadata": {
        "id": "rAAnu2mrzQL6"
      }
    },
    {
      "cell_type": "markdown",
      "source": [
        "#7. What are the advantages of using generators over regular functions\n",
        "-  advantages of using generators over regular functions\n",
        "\n",
        "#1. Memory Efficiency:\n",
        "\n",
        " - Generators: Generators produce values on demand, meaning they only generate and store one value at a time. This is highly memory-efficient, especially when dealing with large datasets or infinite sequences.\n",
        " - Regular Functions: Regular functions typically generate and store all values in memory before returning them. This can lead to significant memory consumption for large datasets.\n",
        "\n",
        "#2. Lazy Evaluation:\n",
        "\n",
        " - Generators: Generators use lazy evaluation, meaning they only generate values when they are needed. This can be beneficial for computationally expensive operations or when you only need a subset of the generated values.\n",
        " - Regular Functions: Regular functions perform all computations upfront, even if you only need a portion of the results. This can lead to unnecessary processing time.\n",
        "\n",
        "#3. Readability and Conciseness:\n",
        "\n",
        "- Generators: Generators often lead to more concise and readable code compared to using iterators directly or implementing custom iteration logic in regular functions. The yield keyword simplifies the process of creating iterators.\n",
        "- Regular Functions: Implementing custom iteration logic in regular functions can be more verbose and complex.\n",
        "\n",
        "#4. Representing Infinite Sequences:\n",
        "\n",
        "- Generators: Generators can easily represent infinite sequences, as they generate values on demand and don't need to store the entire sequence in memory.\n",
        "- Regular Functions: Regular functions cannot represent infinite sequences directly, as they would require infinite memory to store all values.\n",
        "\n",
        "#5. Pipelining Generators:\n",
        "\n",
        "- Generators: Generators can be chained together in a pipeline, where the output of one generator is used as input to another. This allows for efficient and modular data processing.\n",
        "- Regular Functions: Regular functions typically require intermediate data structures to store and pass data between function calls."
      ],
      "metadata": {
        "id": "Qwzfohx2zh7n"
      }
    },
    {
      "cell_type": "markdown",
      "source": [
        "#8. What is a lambda function in Python and when is it typically used\n",
        "- What is a Lambda Function?\n",
        "\n",
        "- A lambda function is a small, anonymous function defined using the lambda keyword.\n",
        " -It can take any number of arguments but has only one expression.\n",
        "- The expression is evaluated and returned when the function is called.\n",
        "- Lambda functions are also known as anonymous functions because they don't have a name like regular functions defined with def.\n",
        "#Syntax:"
      ],
      "metadata": {
        "id": "tpl9yx240XI3"
      }
    },
    {
      "cell_type": "code",
      "source": [
        "lambda arguments: expression"
      ],
      "metadata": {
        "colab": {
          "base_uri": "https://localhost:8080/"
        },
        "id": "Lc1-45aM0v0s",
        "outputId": "ed93e532-6acf-482e-ad91-f65963f5d1e6"
      },
      "execution_count": 48,
      "outputs": [
        {
          "output_type": "execute_result",
          "data": {
            "text/plain": [
              "<function __main__.<lambda>(arguments)>"
            ]
          },
          "metadata": {},
          "execution_count": 48
        }
      ]
    },
    {
      "cell_type": "markdown",
      "source": [
        " - arguments: These are the input parameters to the function, similar to regular function parameters.\n",
        " - expression: This is a single expression that is evaluated and returned by the function.\n",
        "\n",
        " #Example:"
      ],
      "metadata": {
        "id": "CiuQ0o8D0yJn"
      }
    },
    {
      "cell_type": "code",
      "source": [
        "square = lambda x: x * x  # Define a lambda function to square a number\n",
        "result = square(5)  # Call the lambda function with the argument 5\n",
        "print(result)  # Output: 25"
      ],
      "metadata": {
        "id": "8omJGEc71DUI"
      },
      "execution_count": null,
      "outputs": []
    },
    {
      "cell_type": "markdown",
      "source": [
        "When to Use Lambda Functions:\n",
        "\n",
        "Lambda functions are typically used in situations where a small, one-time function is needed, and defining a full function using def would be overkill. Here are some common use cases:\n",
        "\n",
        "- Short and Simple Operations: When you need a function for a simple operation that can be expressed in a single expression, such as squaring a number, adding two numbers, or filtering a list.\n",
        "\n",
        "- Higher-Order Functions: Lambda functions are often used as arguments to higher-order functions like map, filter, and reduce. These functions take a function as an argument and apply it to a sequence of elements.\n",
        "\n",
        "- Callbacks and Event Handlers: In some cases, you might need to define a function that will be called later in response to an event. Lambda functions can be used for this purpose, as they provide a concise way to define a function without giving it a separate name.\n",
        "\n",
        "- Creating Closures: Lambda functions can be used to create closures, which are functions that \"remember\" the values of variables in their enclosing scope. This can be useful for creating functions with dynamic behavior.\n",
        "\n",
        "#Advantages of Lambda Functions:\n",
        "\n",
        "- Conciseness: They allow you to define functions in a single line of code, making your code more compact.\n",
        "- Readability: For simple operations, lambda functions can make your code easier to read by avoiding the need to define a separate function.\n",
        "- Flexibility: They can be used in a variety of situations, such as with higher-order functions and callbacks.\n",
        "#Limitations of Lambda Functions:\n",
        "\n",
        "- Single Expression: Lambda functions can only contain a single expression, which limits their complexity.\n",
        "- No Statements: They cannot contain statements like loops or conditional statements.\n",
        "-Debugging: Debugging lambda functions can be more challenging due to their anonymous nature."
      ],
      "metadata": {
        "id": "ErTCJdgw1FbP"
      }
    },
    {
      "cell_type": "markdown",
      "source": [
        "#9. Explain the purpose and usage of the `map()` function in Python.\n",
        "- Purpose of map()\n",
        "\n",
        "The map() function applies a given function to each item of an iterable (such as a list, tuple, or string) and returns an iterator containing the results. In essence, it \"maps\" the function to each element of the iterable.\n",
        "\n",
        "#Usage of map()\n",
        "\n",
        "The basic syntax of map() is as follows:"
      ],
      "metadata": {
        "id": "RsIjBAvE1gMu"
      }
    },
    {
      "cell_type": "code",
      "source": [
        "map(function, iterable, ...)"
      ],
      "metadata": {
        "id": "xgwnpx9A15Ed"
      },
      "execution_count": null,
      "outputs": []
    },
    {
      "cell_type": "markdown",
      "source": [
        "- function: The function to apply to each item of the iterable.\n",
        "- iterable: The iterable containing the items to be processed.\n",
        "- ...: Optional, additional iterables. If provided, the function must take that many arguments and is applied to the items from all iterables in parallel.\n",
        "#Example:"
      ],
      "metadata": {
        "id": "3cfLQSCX16EB"
      }
    },
    {
      "cell_type": "code",
      "source": [
        "numbers = [1, 2, 3, 4, 5]\n",
        "squared_numbers = list(map(lambda x: x * x, numbers))  # Apply lambda function to square each number\n",
        "print(squared_numbers)  # Output: [1, 4, 9, 16, 25]"
      ],
      "metadata": {
        "id": "NjmE2PKq2EOV"
      },
      "execution_count": null,
      "outputs": []
    },
    {
      "cell_type": "markdown",
      "source": [
        "In this example, the map() function applies the lambda function lambda x: x * x to each element of the numbers list. The results are collected into a new list called squared_numbers.\n",
        "\n",
        "#Key Features and Benefits of map()\n",
        "\n",
        "- Efficiency: map() is often more efficient than using a loop to apply a function to each item of an iterable, especially for large datasets.\n",
        "\n",
        "- Functional Programming: map() promotes a functional programming style, where functions are treated as first-class objects and can be passed as arguments to other functions.\n",
        "\n",
        "- Readability: Using map() can make your code more concise and readable, especially when dealing with simple operations on iterables.\n",
        "\n",
        "- Versatility: map() can be used with various types of functions, including built-in functions, user-defined functions, and lambda functions."
      ],
      "metadata": {
        "id": "ung0GgMw2GAo"
      }
    },
    {
      "cell_type": "markdown",
      "source": [
        "#10. What is the difference between `map()`, `reduce()`, and `filter()` functions in Python\n",
        "- map()\n",
        "\n",
        "- Purpose: Applies a function to each item of an iterable and returns an iterator with the results.\n",
        "- Transformation: It transforms each element of the iterable based on the provided function.\n",
        "- Output: Returns an iterator of the same length as the input iterable.\n",
        "#Example:"
      ],
      "metadata": {
        "id": "Qn8gG6oY2W6y"
      }
    },
    {
      "cell_type": "code",
      "source": [
        "numbers = [1, 2, 3, 4, 5]\n",
        "squared_numbers = list(map(lambda x: x * x, numbers))\n",
        "# squared_numbers: [1, 4, 9, 16, 25]"
      ],
      "metadata": {
        "id": "Q44CoGJ02v9R"
      },
      "execution_count": null,
      "outputs": []
    },
    {
      "cell_type": "markdown",
      "source": [
        "reduce()\n",
        "\n",
        "- Purpose: Applies a function cumulatively to the items of an iterable, reducing them to a single value.\n",
        "- Aggregation: It aggregates the elements of the iterable into a single result.\n",
        "- Output: Returns a single value.\n",
        "#Example:"
      ],
      "metadata": {
        "id": "8LS8uK9Z20PM"
      }
    },
    {
      "cell_type": "code",
      "source": [
        "from functools import reduce\n",
        "\n",
        "numbers = [1, 2, 3, 4, 5]\n",
        "product = reduce(lambda x, y: x * y, numbers)\n",
        "# product: 120"
      ],
      "metadata": {
        "id": "7aIycxGu293T"
      },
      "execution_count": null,
      "outputs": []
    },
    {
      "cell_type": "markdown",
      "source": [
        "filter()\n",
        "\n",
        "- Purpose: Filters the elements of an iterable based on a function's condition, returning an iterator with the elements that satisfy the condition.\n",
        "- Selection: It selects elements from the iterable that meet a specific criterion.\n",
        "- Output: Returns an iterator with a subset of the original iterable's elements.\n",
        "#Example:"
      ],
      "metadata": {
        "id": "3JVslcZQ3AHM"
      }
    },
    {
      "cell_type": "code",
      "source": [
        "numbers = [1, 2, 3, 4, 5]\n",
        "even_numbers = list(filter(lambda x: x % 2 == 0, numbers))\n",
        "# even_numbers: [2, 4]"
      ],
      "metadata": {
        "id": "CuHgO4Fs3JeH"
      },
      "execution_count": null,
      "outputs": []
    },
    {
      "cell_type": "markdown",
      "source": [
        "#In Summary\n",
        "\n",
        "- Use map() to transform elements of an iterable.\n",
        "- Use reduce() to aggregate elements into a single value.\n",
        "- Use filter() to select elements based on a condition."
      ],
      "metadata": {
        "id": "xc2E-nDp3OgE"
      }
    },
    {
      "cell_type": "markdown",
      "source": [
        "#11. Using pen & Paper write the internal mechanism for sum operation using  reduce function on this given\n",
        "list:[47,11,42,13];\n",
        "# 1. Initialization\n",
        "\n",
        "- The reduce() function takes two arguments: a function and an iterable.\n",
        "- In this case, the function is the addition operation (usually represented by lambda x, y: x + y), and the iterable is the list [47, 11, 42, 13].\n",
        "- An accumulator variable is initialized with the first element of the list, which is 47.\n",
        "#2. Iteration\n",
        "\n",
        "- The reduce() function iterates through the remaining elements of the list.\n",
        "- For each element, it applies the addition function, using the accumulator and the current element as arguments.\n",
        "- The result of the addition becomes the new value of the accumulator.\n",
        "#3. Steps\n",
        "\n",
        "- Here's how the steps would unfold:\n",
        "\n",
        " 1. Iteration 1:\n",
        "\n",
        " - Accumulator: 47\n",
        " - Current element: 11\n",
        " - Operation: 47 + 11 = 58\n",
        " - Accumulator updated to 58\n",
        "\n",
        "2. Iteration 2:\n",
        "\n",
        " - Accumulator: 58\n",
        " - Current element: 42\n",
        " - Operation: 58 + 42 = 100\n",
        " - Accumulator updated to 100\n",
        "\n",
        "3. Iteration 3:\n",
        "\n",
        " - Accumulator: 100\n",
        " - Current element: 13\n",
        " - Operation: 100 + 13 = 113\n",
        " - Accumulator updated to 113\n",
        "\n",
        "4. Final Result\n",
        "\n",
        "- After processing all elements of the list, the final value of the accumulator is returned as the result of the reduce() function.\n",
        "- In this case, the final value of the accumulator is 113.\n",
        "\n",
        "#Therefore, the sum of the list [47, 11, 42, 13] using the reduce() function is 113.\n",
        "\n",
        "In essence, the reduce() function repeatedly applies the addition operation, accumulating the results until it processes all elements of the list, ultimately producing the sum."
      ],
      "metadata": {
        "id": "9wFYubYo3VE6"
      }
    },
    {
      "cell_type": "markdown",
      "source": [
        "#                        PRACTICAL QUESTIONS"
      ],
      "metadata": {
        "id": "I-xNaWb84vP2"
      }
    },
    {
      "cell_type": "markdown",
      "source": [
        "#1. Write a Python function that takes a list of numbers as input and returns the sum of all even numbers in the list."
      ],
      "metadata": {
        "id": "kE5cu10f4-oA"
      }
    },
    {
      "cell_type": "code",
      "source": [
        "def sum_of_even_numbers(numbers):\n",
        "  \"\"\"\n",
        "  Calculates the sum of all even numbers in a list.\n",
        "\n",
        "  Args:\n",
        "    numbers: A list of numbers.\n",
        "\n",
        "  Returns:\n",
        "    The sum of all even numbers in the list.\n",
        "  \"\"\"\n",
        "  # Initialize the sum to 0\n",
        "  total_sum = 0\n",
        "\n",
        "  # Iterate over the numbers in the list\n",
        "  for number in numbers:\n",
        "    # Check if the number is even\n",
        "    if number % 2 == 0:\n",
        "      # If it's even, add it to the sum\n",
        "      total_sum += number\n",
        "\n",
        "  # Return the total sum\n",
        "  return total_sum\n",
        "\n",
        "# Example usage:\n",
        "numbers = [1, 2, 3, 4, 5, 6]\n",
        "even_sum = sum_of_even_numbers(numbers)\n",
        "print(f\"The sum of even numbers in the list is: {even_sum}\")  # Output: 12"
      ],
      "metadata": {
        "colab": {
          "base_uri": "https://localhost:8080/"
        },
        "id": "spdNfNjg5ZB7",
        "outputId": "d8a1904d-b640-4d0c-894a-2f733d85ec02"
      },
      "execution_count": 51,
      "outputs": [
        {
          "output_type": "stream",
          "name": "stdout",
          "text": [
            "The sum of even numbers in the list is: 12\n"
          ]
        }
      ]
    },
    {
      "cell_type": "markdown",
      "source": [
        "#2. Create a Python function that accepts a string and returns the reverse of that string."
      ],
      "metadata": {
        "id": "-lVJ8nMk5bor"
      }
    },
    {
      "cell_type": "code",
      "source": [
        "def reverse_string(text):\n",
        "  \"\"\"\n",
        "  Reverses a given string.\n",
        "\n",
        "  Args:\n",
        "    text: The string to be reversed.\n",
        "\n",
        "  Returns:\n",
        "    The reversed string.\n",
        "  \"\"\"\n",
        "  return text[::-1]\n",
        "\n",
        "# Example usage:\n",
        "string = \"Hello, world!\"\n",
        "reversed_string = reverse_string(string)\n",
        "print(f\"The reversed string is: {reversed_string}\")  # Output: !dlrow ,olleH"
      ],
      "metadata": {
        "colab": {
          "base_uri": "https://localhost:8080/"
        },
        "id": "38ryzH985fO-",
        "outputId": "83249ff5-340f-4fa9-a61a-faf2d25dc034"
      },
      "execution_count": 52,
      "outputs": [
        {
          "output_type": "stream",
          "name": "stdout",
          "text": [
            "The reversed string is: !dlrow ,olleH\n"
          ]
        }
      ]
    },
    {
      "cell_type": "markdown",
      "source": [
        "#3. Implement a Python function that takes a list of integers and returns a new list containing the squares of each number."
      ],
      "metadata": {
        "id": "RFd_eGkK5q9L"
      }
    },
    {
      "cell_type": "code",
      "source": [
        "def square_numbers(numbers):\n",
        "  \"\"\"\n",
        "  Squares each number in a list and returns a new list with the squares.\n",
        "\n",
        "  Args:\n",
        "    numbers: A list of integers.\n",
        "\n",
        "  Returns:\n",
        "    A new list containing the squares of each number in the input list.\n",
        "  \"\"\"\n",
        "  # Using a list comprehension for conciseness\n",
        "  squared_numbers = [number**2 for number in numbers]\n",
        "  return squared_numbers\n",
        "\n",
        "# Example usage:\n",
        "numbers = [1, 2, 3, 4, 5]\n",
        "squared_numbers = square_numbers(numbers)\n",
        "print(f\"The squared numbers are: {squared_numbers}\")  # Output: [1, 4, 9, 16, 25]"
      ],
      "metadata": {
        "id": "TbN7YKgw6B7C"
      },
      "execution_count": null,
      "outputs": []
    },
    {
      "cell_type": "markdown",
      "source": [
        "#4. Write a Python function that checks if a given number is prime or not from 1 to 200."
      ],
      "metadata": {
        "id": "id7V5yWB6Fzm"
      }
    },
    {
      "cell_type": "code",
      "source": [
        "def is_prime(number):\n",
        "  \"\"\"\n",
        "  Checks if a given number is prime or not.\n",
        "\n",
        "  Args:\n",
        "    number: The number to check for primality.\n",
        "\n",
        "  Returns:\n",
        "    True if the number is prime, False otherwise.\n",
        "  \"\"\"\n",
        "  if number <= 1:\n",
        "    return False  # Numbers less than or equal to 1 are not prime\n",
        "\n",
        "  # Check for divisibility from 2 to the square root of the number\n",
        "  for i in range(2, int(number**0.5) + 1):\n",
        "    if number % i == 0:\n",
        "      return False  # If divisible by any number in this range, it's not prime\n",
        "\n",
        "  return True  # If not divisible by any number in the range, it's prime\n",
        "\n",
        "# Example usage:\n",
        "for num in range(1, 201):\n",
        "  if is_prime(num):\n",
        "    print(f\"{num} is a prime number.\")"
      ],
      "metadata": {
        "id": "nc5km53z6VNh"
      },
      "execution_count": null,
      "outputs": []
    },
    {
      "cell_type": "markdown",
      "source": [
        "#5. Create an iterator class in Python that generates the Fibonacci sequence up to a specified number of terms."
      ],
      "metadata": {
        "id": "gjkDdcaB6YYF"
      }
    },
    {
      "cell_type": "code",
      "source": [
        "class FibonacciIterator:\n",
        "    \"\"\"\n",
        "    Iterator class for generating the Fibonacci sequence.\n",
        "    \"\"\"\n",
        "\n",
        "    def __init__(self, max_terms):\n",
        "        \"\"\"\n",
        "        Initializes the Fibonacci iterator.\n",
        "\n",
        "        Args:\n",
        "            max_terms: The maximum number of terms to generate.\n",
        "        \"\"\"\n",
        "        self.max_terms = max_terms\n",
        "        self.current_term = 0\n",
        "        self.a = 0\n",
        "        self.b = 1\n",
        "\n",
        "    def __iter__(self):\n",
        "        \"\"\"\n",
        "        Returns the iterator object itself.\n",
        "        \"\"\"\n",
        "        return self\n",
        "\n",
        "    def __next__(self):\n",
        "        \"\"\"\n",
        "        Returns the next Fibonacci number in the sequence.\n",
        "        \"\"\"\n",
        "        if self.current_term < self.max_terms:\n",
        "            self.current_term += 1\n",
        "            if self.current_term == 1:\n",
        "                return self.a\n",
        "            elif self.current_term == 2:\n",
        "                return self.b\n",
        "            else:\n",
        "                fib_num = self.a + self.b\n",
        "                self.a, self.b = self.b, fib_num\n",
        "                return fib_num\n",
        "        else:\n",
        "            raise StopIteration\n",
        "\n",
        "# Example usage:\n",
        "fib_iter = FibonacciIterator(10)\n",
        "for num in fib_iter:\n",
        "    print(num)"
      ],
      "metadata": {
        "id": "aIkdotr36e7S"
      },
      "execution_count": null,
      "outputs": []
    },
    {
      "cell_type": "markdown",
      "source": [
        "#6. Write a generator function in Python that yields the powers of 2 up to a given exponent."
      ],
      "metadata": {
        "id": "NdvXUu1i6ms1"
      }
    },
    {
      "cell_type": "code",
      "source": [
        "def powers_of_2(exponent):\n",
        "  \"\"\"\n",
        "  Generates the powers of 2 up to a given exponent.\n",
        "\n",
        "  Args:\n",
        "    exponent: The maximum exponent.\n",
        "\n",
        "  Yields:\n",
        "    The powers of 2.\n",
        "  \"\"\"\n",
        "  for i in range(exponent + 1):\n",
        "    yield 2 ** i\n",
        "\n",
        "# Example usage:\n",
        "for power in powers_of_2(5):\n",
        "  print(power)  # Output: 1, 2, 4, 8, 16, 32"
      ],
      "metadata": {
        "id": "b0z1OncP6rOX"
      },
      "execution_count": null,
      "outputs": []
    },
    {
      "cell_type": "markdown",
      "source": [
        "#7. Implement a generator function that reads a file line by line and yields each line as a string."
      ],
      "metadata": {
        "id": "c75MrqwJ60QQ"
      }
    },
    {
      "cell_type": "code",
      "source": [
        "def read_file_line_by_line(file_path):\n",
        "  \"\"\"\n",
        "  Reads a file line by line and yields each line as a string.\n",
        "\n",
        "  Args:\n",
        "    file_path: The path to the file.\n",
        "\n",
        "  Yields:\n",
        "    Each line of the file as a string.\n",
        "  \"\"\"\n",
        "  with open(file_path, 'r') as file:\n",
        "    for line in file:\n",
        "      yield line.strip()  # Strip newline characters from each line\n",
        "\n",
        "# Example usage:\n",
        "file_path = 'my_file.txt'  # Replace with your file path\n",
        "for line in read_file_line_by_line(file_path):\n",
        "  print(line)"
      ],
      "metadata": {
        "id": "06ME7XcQ643y"
      },
      "execution_count": null,
      "outputs": []
    },
    {
      "cell_type": "markdown",
      "source": [
        "#8. Use a lambda function in Python to sort a list of tuples based on the second element of each tuple."
      ],
      "metadata": {
        "id": "Q1ey6jDT7CSl"
      }
    },
    {
      "cell_type": "code",
      "source": [
        "# Sample list of tuples\n",
        "tuples_list = [(1, 5), (3, 2), (2, 8), (4, 1)]\n",
        "\n",
        "# Sort the list using a lambda function as the key\n",
        "sorted_tuples = sorted(tuples_list, key=lambda item: item[1])\n",
        "\n",
        "# Print the sorted list\n",
        "print(sorted_tuples)  # Output: [(4, 1), (3, 2), (1, 5), (2, 8)]"
      ],
      "metadata": {
        "colab": {
          "base_uri": "https://localhost:8080/"
        },
        "id": "E5kH33ch7F6C",
        "outputId": "08dcc416-40bf-4fee-e98b-93871d65d501"
      },
      "execution_count": 54,
      "outputs": [
        {
          "output_type": "stream",
          "name": "stdout",
          "text": [
            "[(4, 1), (3, 2), (1, 5), (2, 8)]\n"
          ]
        }
      ]
    },
    {
      "cell_type": "markdown",
      "source": [
        "#9. Write a Python program that uses `map()` to convert a list of temperatures from Celsius to Fahrenheit."
      ],
      "metadata": {
        "id": "IsQf-TPL7Qqp"
      }
    },
    {
      "cell_type": "code",
      "source": [
        "def celsius_to_fahrenheit(celsius):\n",
        "  \"\"\"Converts a temperature from Celsius to Fahrenheit.\"\"\"\n",
        "  return (celsius * 9/5) + 32\n",
        "\n",
        "# Sample list of Celsius temperatures\n",
        "celsius_temperatures = [0, 10, 20, 30, 40]\n",
        "\n",
        "# Use map() to convert to Fahrenheit\n",
        "fahrenheit_temperatures = list(map(celsius_to_fahrenheit, celsius_temperatures))\n",
        "\n",
        "# Print the results\n",
        "print(fahrenheit_temperatures)  # Output: [32.0, 50.0, 68.0, 86.0, 104.0]"
      ],
      "metadata": {
        "id": "dbcgznCV7U1f"
      },
      "execution_count": null,
      "outputs": []
    },
    {
      "cell_type": "markdown",
      "source": [
        "#10. Create a Python program that uses `filter()` to remove all the vowels from a given string."
      ],
      "metadata": {
        "id": "nL1zyqfl7db4"
      }
    },
    {
      "cell_type": "code",
      "source": [
        "def remove_vowels(string):\n",
        "  \"\"\"Removes all vowels from a given string.\n",
        "\n",
        "  Args:\n",
        "    string: The input string.\n",
        "\n",
        "  Returns:\n",
        "    The string with vowels removed.\n",
        "  \"\"\"\n",
        "  vowels = \"aeiouAEIOU\"\n",
        "  # Use filter() to keep only consonants\n",
        "  consonants = filter(lambda char: char not in vowels, string)\n",
        "  # Join the consonants back into a string\n",
        "  result = \"\".join(consonants)\n",
        "  return result\n",
        "\n",
        "# Example usage:\n",
        "string = \"Hello, world!\"\n",
        "filtered_string = remove_vowels(string)\n",
        "print(f\"The string with vowels removed: {filtered_string}\")  # Output: Hll, wrld!"
      ],
      "metadata": {
        "id": "Lu_nM8eQ7r3j"
      },
      "execution_count": null,
      "outputs": []
    },
    {
      "cell_type": "markdown",
      "source": [
        "#11) Imagine an accounting routine used in a book shop. It works on a list with sublists, which look like this:\n",
        "\n",
        "Write a Python program, which returns a list with 2-tuples. Each tuple consists of the order number and the\n",
        "product of the price per item and the quantity. The product should be increased by 10,- € if the value of the\n",
        "order is smaller than 100,00 €.\n",
        "\n",
        "Write a Python program using lambda and map."
      ],
      "metadata": {
        "id": "aKKqwR9j7ukU"
      }
    },
    {
      "cell_type": "code",
      "source": [
        "orders = [ [\"34587\", \"Learning Python, Mark Lutz\", 4, 40.95],\n",
        "           [\"98762\", \"Programming Python, Mark Lutz\", 5, 56.80],\n",
        "           [\"77226\", \"Head First Python, Paul Barry\", 3, 32.95],\n",
        "           [\"88112\", \"Einführung in Python3, Bernd Klein\",  3, 24.99]]\n",
        "\n",
        "invoice_totals = list(map(lambda x: (x[0], x[2] * x[3] if x[2] * x[3] >= 100 else x[2] * x[3] + 10), orders))\n",
        "\n",
        "print(invoice_totals)\n",
        "# Output: [('34584', 163.8), ('98762', 284.0), ('77226', 108.85), ('88112', 84.97)]"
      ],
      "metadata": {
        "colab": {
          "base_uri": "https://localhost:8080/"
        },
        "id": "vixplUn67iiS",
        "outputId": "356209fd-f09d-4715-fa4d-0713882fd2e7"
      },
      "execution_count": 55,
      "outputs": [
        {
          "output_type": "stream",
          "name": "stdout",
          "text": [
            "[('34587', 163.8), ('98762', 284.0), ('77226', 108.85000000000001), ('88112', 84.97)]\n"
          ]
        }
      ]
    }
  ]
}